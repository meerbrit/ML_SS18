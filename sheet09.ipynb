{
 "cells": [
  {
   "cell_type": "markdown",
   "metadata": {
    "deletable": false,
    "editable": false,
    "nbgrader": {
     "checksum": "8f17c26ef5290d45b564a2185541d945",
     "grade": false,
     "grade_id": "h00",
     "locked": true,
     "schema_version": 1,
     "solution": false
    }
   },
   "source": [
    "Osnabrück University - Machine Learning (Summer Term 2018) - Prof. Dr.-Ing. G. Heidemann, Ulf Krumnack"
   ]
  },
  {
   "cell_type": "markdown",
   "metadata": {
    "deletable": false,
    "editable": false,
    "nbgrader": {
     "checksum": "0524f468c9382b8f98fc2b672ff4d290",
     "grade": false,
     "grade_id": "h01",
     "locked": true,
     "schema_version": 1,
     "solution": false
    }
   },
   "source": [
    "# Exercise Sheet 09"
   ]
  },
  {
   "cell_type": "markdown",
   "metadata": {
    "deletable": false,
    "editable": false,
    "nbgrader": {
     "checksum": "8302b5b611188e8b278bd8460fe22c27",
     "grade": false,
     "grade_id": "h02",
     "locked": true,
     "schema_version": 1,
     "solution": false
    }
   },
   "source": [
    "## Introduction\n",
    "\n",
    "This week's sheet should be solved and handed in before the end of **Sunday, June 10, 2018**. If you need help (and Google and other resources were not enough), feel free to contact your groups' designated tutor or whomever of us you run into first. Please upload your results to your group's Stud.IP folder."
   ]
  },
  {
   "cell_type": "markdown",
   "metadata": {
    "deletable": false,
    "editable": false,
    "nbgrader": {
     "checksum": "a97ab92bec62982a553f68d3b914a04a",
     "grade": false,
     "grade_id": "math-recap-intro",
     "locked": true,
     "schema_version": 1,
     "solution": false
    }
   },
   "source": [
    "## Assignment 0: Math recap (Independence) [2 Bonus Points]\n",
    "\n",
    "This exercise is supposed to be very easy and is voluntary. There will be a similar exercise on every sheet. It is intended to revise some basic mathematical notions that are assumed throughout this class and to allow you to check if you are comfortable with them. Usually you should have no problem to answer these questions offhand, but if you feel unsure, this is a good time to look them up again. You are always welcome to discuss questions with the tutors or in the practice session. Also, if you have a (math) topic you would like to recap, please let us know."
   ]
  },
  {
   "cell_type": "markdown",
   "metadata": {
    "deletable": false,
    "editable": false,
    "nbgrader": {
     "checksum": "af1a79d363354f73306b0e3246aa58fd",
     "grade": false,
     "grade_id": "math-independence-q1",
     "locked": true,
     "schema_version": 1,
     "solution": false
    }
   },
   "source": [
    "**a)** Explain the idea of stochastical independence. What is the intuition and how is it defined?"
   ]
  },
  {
   "cell_type": "markdown",
   "metadata": {
    "collapsed": true,
    "deletable": false,
    "nbgrader": {
     "checksum": "c88770a324ab0f9782e3bd878740c624",
     "grade": true,
     "grade_id": "math-independence-a1",
     "locked": false,
     "points": 0,
     "schema_version": 1,
     "solution": true
    },
    "solution": true
   },
   "source": [
    "YOUR ANSWER HERE"
   ]
  },
  {
   "cell_type": "markdown",
   "metadata": {
    "deletable": false,
    "editable": false,
    "nbgrader": {
     "checksum": "7de7ab72c85141114756c73fd644b7b5",
     "grade": false,
     "grade_id": "math-independence-q2",
     "locked": true,
     "schema_version": 1,
     "solution": false
    }
   },
   "source": [
    "**b)** What is pairwaise independence and what is mutual independence? Can you provide an example of variables that are pairwise independent but not mutual independent?"
   ]
  },
  {
   "cell_type": "markdown",
   "metadata": {
    "collapsed": true,
    "deletable": false,
    "nbgrader": {
     "checksum": "9a236f68ab130179524f7cc7e3e0a0ee",
     "grade": true,
     "grade_id": "math-independence-a2",
     "locked": false,
     "points": 0,
     "schema_version": 1,
     "solution": true
    },
    "solution": true
   },
   "source": [
    "YOUR ANSWER HERE"
   ]
  },
  {
   "cell_type": "markdown",
   "metadata": {
    "deletable": false,
    "editable": false,
    "nbgrader": {
     "checksum": "2fb3e6c1aef6fed27363925aa2c6b495",
     "grade": false,
     "grade_id": "math-independence-q3",
     "locked": true,
     "schema_version": 1,
     "solution": false
    }
   },
   "source": [
    "**c)** What does it mean that a variable is i.i.d.? When do we assume i.i.d. variables in machine learning and what are the consequences?"
   ]
  },
  {
   "cell_type": "markdown",
   "metadata": {
    "deletable": false,
    "nbgrader": {
     "checksum": "7afb83c1468d66b87f1312730bad08e6",
     "grade": true,
     "grade_id": "math-independence-a3",
     "locked": false,
     "points": 0,
     "schema_version": 1,
     "solution": true
    }
   },
   "source": [
    "YOUR ANSWER HERE"
   ]
  },
  {
   "cell_type": "markdown",
   "metadata": {
    "deletable": false,
    "editable": false,
    "nbgrader": {
     "checksum": "f96de58208ad99e210a88d7cc210d101",
     "grade": false,
     "grade_id": "ex1",
     "locked": true,
     "schema_version": 1,
     "solution": false
    }
   },
   "source": [
    "## Assignment 1: Self-Organizing Maps Theory [4 Points]\n",
    "\n",
    "This exercise will highlight the theoretical differences of SOM's to other algorithms we already took a look at. There is again some research involved if the answers are not directly clear from the slides (or even better: your own ideas!)"
   ]
  },
  {
   "cell_type": "markdown",
   "metadata": {
    "deletable": false,
    "editable": false,
    "nbgrader": {
     "checksum": "46b372b7860c559caf1dc568993f0d32",
     "grade": false,
     "grade_id": "ex1a",
     "locked": true,
     "schema_version": 1,
     "solution": false
    }
   },
   "source": [
    "### a) Learning in SOMs\n",
    "\n",
    "How is learning in such a network achieved? Contrast this with to techniques used in MLP."
   ]
  },
  {
   "cell_type": "markdown",
   "metadata": {
    "deletable": false,
    "nbgrader": {
     "checksum": "95f4627ab27e52031cebc864273b4389",
     "grade": true,
     "grade_id": "ex1a_sol",
     "locked": false,
     "points": 1,
     "schema_version": 1,
     "solution": true
    }
   },
   "source": [
    "YOUR ANSWER HERE"
   ]
  },
  {
   "cell_type": "markdown",
   "metadata": {
    "collapsed": true,
    "deletable": false,
    "editable": false,
    "nbgrader": {
     "checksum": "4121c5fe377a8c1436c40454169e1f9c",
     "grade": false,
     "grade_id": "ex1b",
     "locked": true,
     "schema_version": 1,
     "solution": false
    }
   },
   "source": [
    "### b) Initialization\n",
    "\n",
    "Usually weights in a SOM are initialized randomly - what would be an alternative?"
   ]
  },
  {
   "cell_type": "markdown",
   "metadata": {
    "deletable": false,
    "nbgrader": {
     "checksum": "ea9c0e098103cbfd57a743bc981d414a",
     "grade": true,
     "grade_id": "ex1b_sol",
     "locked": false,
     "points": 1,
     "schema_version": 1,
     "solution": true
    }
   },
   "source": [
    "YOUR ANSWER HERE"
   ]
  },
  {
   "cell_type": "markdown",
   "metadata": {
    "deletable": false,
    "editable": false,
    "nbgrader": {
     "checksum": "2090a34cc9b9beac1f47f54f8fdabfd7",
     "grade": false,
     "grade_id": "ex1c",
     "locked": true,
     "schema_version": 1,
     "solution": false
    }
   },
   "source": [
    "<a id=\"ex1c\"></a>\n",
    "### c) Decaying learning rate\n",
    "\n",
    "When training a self organizing map (and also other complex models), it is recommended to use a decaying learning rate. Explain, how this affects the learning process and why it may be beneficial.\n",
    "\n",
    "The following function is is often use for this purpose (where $s$ is the current training step and $S$ is the total number of steps to run):\n",
    "\n",
    "$$\\alpha(s, S) = 0.1 \\exp\\left(-\\frac{s}{S-s}\\right)$$\n",
    "\n",
    "Plot its graph and discuss its properties."
   ]
  },
  {
   "cell_type": "markdown",
   "metadata": {
    "deletable": false,
    "nbgrader": {
     "checksum": "9e5f2c56f340eb84b6604b768a9f14e9",
     "grade": true,
     "grade_id": "ex1c_sol1",
     "locked": false,
     "points": 0.5,
     "schema_version": 1,
     "solution": true
    }
   },
   "source": [
    "YOUR ANSWER HERE"
   ]
  },
  {
   "cell_type": "code",
   "execution_count": null,
   "metadata": {
    "deletable": false,
    "nbgrader": {
     "checksum": "4c060d83437b353d6cc61bcdfd1d2074",
     "grade": true,
     "grade_id": "ex1c_sol2",
     "locked": false,
     "points": 0.5,
     "schema_version": 1,
     "solution": true
    }
   },
   "outputs": [],
   "source": [
    "# YOUR CODE HERE"
   ]
  },
  {
   "cell_type": "markdown",
   "metadata": {
    "deletable": false,
    "editable": false,
    "nbgrader": {
     "checksum": "7cbf44571acb76ea10eb0074b921fffc",
     "grade": false,
     "grade_id": "ex1d",
     "locked": true,
     "schema_version": 1,
     "solution": false
    }
   },
   "source": [
    "<a id=\"ex1d\"></a>\n",
    "### d) Decaying neighborhood function\n",
    "\n",
    "SOM use a decaying neighborhood function. Explain its role in the training process.\n",
    "\n",
    "One possible formula for for such a function is the following: let $u$ denote the coordinates of the best matching node, and $v$ the coordinates of some arbitrary node, $n$ the maximum number of nodes in one direction, and let a $s$ and $S$ again be the current step and the total number of steps, respectively: \n",
    "\n",
    "\\begin{align*}\n",
    "  r &= n \\exp\\left( -\\frac{s \\log(n)}{S} \\right) \\\\\n",
    "  \\theta(u, v, s, S) &= \\exp\\left(-\\frac{||u - v||^2}{2r^2}\\right)\n",
    "\\end{align*}\n",
    "\n",
    "Plot its 3D graph for a fixed node $u$ and describe its properties."
   ]
  },
  {
   "cell_type": "markdown",
   "metadata": {
    "deletable": false,
    "nbgrader": {
     "checksum": "e33ba5ec67d9613fccdf57dfc7de6b2c",
     "grade": true,
     "grade_id": "ex1d_sol1",
     "locked": false,
     "points": 1,
     "schema_version": 1,
     "solution": true
    }
   },
   "source": [
    "YOUR ANSWER HERE"
   ]
  },
  {
   "cell_type": "code",
   "execution_count": null,
   "metadata": {},
   "outputs": [],
   "source": [
    "%matplotlib notebook\n",
    "import numpy as np\n",
    "import matplotlib.pyplot as plt\n",
    "from mpl_toolkits.mplot3d.axes3d import Axes3D\n",
    "\n",
    "# The reference point u\n",
    "u = (4,4)\n",
    "\n",
    "# The total number of steps\n",
    "S = 100\n",
    "\n",
    "# The size of the map (n*n)\n",
    "n = 10\n",
    "\n",
    "# the r function\n",
    "r = lambda n,s,S: n * np.exp(-s*np.log(n)/S)\n",
    "\n",
    "# the theta function\n",
    "theta = lambda u,v,s,S : np.exp(-((u-v)**2).sum(2)/(2*r(n,s,S)**2))\n",
    "\n",
    "v = np.indices((n,n)).transpose((1,2,0))\n",
    "s_range = np.arange(S)\n",
    "\n",
    "fig = plt.figure(\"The theta(u,v,s,S)\", figsize = (10,5))\n",
    "ax1 = fig.add_subplot(1, 2, 1)\n",
    "ax2 = fig.add_subplot(1, 2, 2, projection='3d')\n",
    "\n",
    "for s in s_range:\n",
    "    ax1.cla()\n",
    "    ax1.set_title(\"r(s) for s={}\".format(s))\n",
    "    ax1.plot(s_range,r(n,s_range,S), '-')\n",
    "    ax1.plot(s,r(n,s,S),'*')\n",
    "\n",
    "    ax2.cla()\n",
    "    ax2.set_title(\"theta(s) for s={}\".format(s))\n",
    "    ax2.set_zlim3d(0,1)\n",
    "    ax2.plot([u[0]], [u[1]], zs=[0], marker='o', color='orange', markersize=5)\n",
    "    ax2.plot_wireframe(v[:,:,0],v[:,:,1],theta(u,v,s,S))\n",
    "\n",
    "    fig.canvas.draw()"
   ]
  },
  {
   "cell_type": "markdown",
   "metadata": {
    "deletable": false,
    "editable": false,
    "nbgrader": {
     "checksum": "b9f3f004a72bc1f065e97dd981569bdd",
     "grade": false,
     "grade_id": "ex2_h00",
     "locked": true,
     "schema_version": 1,
     "solution": false
    }
   },
   "source": [
    "## Assignment 2: Self-Organizing Maps [6 Points]\n",
    "\n",
    "In this exercise you will implement a self-organizing map and use it for a beautiful application: coloring countries having similar statistics in similar colors. \n",
    "\n",
    "### Additional Information about the Data\n",
    "\n",
    "The data is taken from the [World Bank's World DataBank](http://databank.worldbank.org/data/home.aspx) and preprocessed. Since their data is very sparse we just tried to use the latest possible data for each country in each category. This means there can be data from the 1960 but also from 2015 - for the exercise this shouldn't matter too much. Note that some countries don't have data at all.\n",
    "\n",
    "The [blank map](https://en.wikipedia.org/wiki/File:BlankMap-World6-Equirectangular.svg) is taken from wikipedia. It is an [SVG](https://en.wikipedia.org/wiki/Scalable_Vector_Graphics) file which suits this task well: We can easily display it in Jupyter Notebooks and it is very easy to color them, as this just involves a modification of their style sheet. You can find the code to do this below, you just have to figure out how to use it."
   ]
  },
  {
   "cell_type": "markdown",
   "metadata": {
    "deletable": false,
    "editable": false,
    "nbgrader": {
     "checksum": "9d5cc245c4dbf9065315eacca09a81de",
     "grade": false,
     "grade_id": "ex2_h01",
     "locked": true,
     "schema_version": 1,
     "solution": false
    }
   },
   "source": [
    "### Coloring the Map\n",
    "\n",
    "The following cell defines a method to create a colored version of the empty map and shows an example usage of it.\n",
    "\n",
    "As you can see, the mapping parameter is a dictionary mapping lowercase [ISO 3166-2](https://en.wikipedia.org/wiki/ISO_3166-2) country codes to `[R, G, B]` values which range from `0` to `1`."
   ]
  },
  {
   "cell_type": "code",
   "execution_count": null,
   "metadata": {},
   "outputs": [],
   "source": [
    "from IPython.display import SVG, display_svg\n",
    "from xml.etree import cElementTree as ET\n",
    "import time\n",
    "\n",
    "def create_colored_map(color_mapping, scaling=0.7, display=True):\n",
    "    \"\"\"\n",
    "    Takes a color mapping to create a world map with the specified \n",
    "    colors.\n",
    "    For example:\n",
    "    \n",
    "    mapping = {'de': [1, 0, 0],\n",
    "               'fr': [0, 1, 0]}\n",
    "    create_and_display_colored_map(mapping)\n",
    "    \n",
    "    will create a worldmap and display it with Germany ('de') \n",
    "    colored red and France ('fr') colored green.\n",
    "    Colors need to be iterables containing R G B values ranging\n",
    "    from 0 (dark) to 1 (bright).\n",
    "    \n",
    "    The template used for the map can be found here:\n",
    "    https://en.wikipedia.org/wiki/File:BlankMap-World6-Equirectangular.svg\n",
    "    \n",
    "    Args:\n",
    "        mapping     A color mapping between country codes and colors.\n",
    "        scaling     Scales the map by this factor. \n",
    "        display     If True, the image is displayed, if False, it is\n",
    "                    returned.\n",
    "    Returns:\n",
    "        The svg image if display=False. Else nothing.\n",
    "    \"\"\"\n",
    "    def color_css(color_mapping, map_id):\n",
    "        \"\"\"Creates a CSS string for the color mapping.\"\"\"\n",
    "        tmpl = '#{4} .{0} {{fill: #{1:0>2x}{2:0>2x}{3:0>2x} !important;}}'\n",
    "        scale = lambda x : [int(255 * i) for i in x]\n",
    "        return '\\n' + '\\n'.join([tmpl.format(country.lower(), *scale(color), map_id) for country, color in color_mapping.items()])\n",
    "\n",
    "    # Read SVG file and get document root.\n",
    "    tree = ET.parse('map.svg')\n",
    "    root = tree.getroot()\n",
    "    \n",
    "    # Adjust the ID (Otherwise coloring will be global for all SVG images).\n",
    "    time.sleep(1)\n",
    "    root.attrib['id'] = \"{}{}\".format(root.attrib['id'], str(time.time())[0:10])\n",
    "    \n",
    "    # Search the style element and append the color mapping.\n",
    "    style_element = tree.find('{http://www.w3.org/2000/svg}style')\n",
    "    style_element.text = style_element.text + color_css(color_mapping, root.attrib['id'])\n",
    "\n",
    "    # Adjust the image scale.\n",
    "    root.attrib['height'] = str(float(root.attrib['height']) * scaling)\n",
    "    root.attrib['width'] = str(float(root.attrib['width']) * scaling)\n",
    "    \n",
    "    # Create an SVG instance which can be displayed by Jupyter.\n",
    "    svg = SVG(data=ET.tostring(root).decode('UTF-8').replace('ns0:',''))\n",
    "    if display:\n",
    "        display_svg(svg)\n",
    "    else:\n",
    "        return svg\n",
    "\n",
    "# Example for coloring the map.\n",
    "mapping = {'de': [1, 0, 0], \n",
    "           'fr': [0, 1, 0], \n",
    "           'us': [0, 0, 1]}\n",
    "create_colored_map(mapping, scaling=0.4)"
   ]
  },
  {
   "cell_type": "markdown",
   "metadata": {
    "deletable": false,
    "editable": false,
    "nbgrader": {
     "checksum": "0b70bb326aefbfd4ce69df0b9f7cd211",
     "grade": false,
     "grade_id": "ex2a",
     "locked": true,
     "schema_version": 1,
     "solution": false
    }
   },
   "source": [
    "### a) Implement a Self-Organizing Map.\n",
    "\n",
    "Below is a class definition for a self-organizing map. The initialization is already provided. Follow the instruction below to finish it.\n",
    "\n",
    "1. Write a method `get_best_matching_index(self, X)` which returns the indices of the node with the weights closest to `X`. Use the `cdist` function to calculate the distances between `X` and all nodes. *Note:* You might need `unravel_index`.\n",
    "\n",
    "1. Write a method `alpha(self, step, max_steps)` which defines the decaying learning rate. Use the formula from [exercise 1c)](#ex1c), i.e.\n",
    "$$\\alpha(s, S) = 0.1 \\exp\\left(-\\frac{s}{S-s}\\right)$$\n",
    "\n",
    "1. Write a method `theta(self, u, v, step, max_steps)` which defines the decaying neighborhood function. Use the formula from [exercise 1d)](#ex1d), i.e,\n",
    "$$\\theta(u, v, s, S) = \\exp\\left(-\\frac{||u - v||^2}{2r^2}\\right)\\qquad\\text{with }\n",
    "  r = n \\exp\\left( -\\frac{s \\log(n)}{S} \\right) $$\n",
    "\n",
    "1. Write a function `organize(self, max_steps)` which trains the map for `max_steps` steps. Pick a random data sample $X$, calculate the best matching indices $u$ and update each node $v_i$ (with $w_{v_i}$ being the corresponding weight vector) according to the following formula ($s$, $S$, $\\theta$ and $\\alpha$ are as above): \n",
    "$$\\Delta w_{v_i} = \\theta(u, v_i, s, S)\\ (X - w_{v_i})\\ \\alpha(s, S)$$"
   ]
  },
  {
   "cell_type": "code",
   "execution_count": null,
   "metadata": {
    "deletable": false,
    "nbgrader": {
     "checksum": "0a9e5690636e82072f66fbf5a7f0a3f7",
     "grade": true,
     "grade_id": "ex2a_sol",
     "locked": false,
     "points": 2,
     "schema_version": 1,
     "solution": true
    }
   },
   "outputs": [],
   "source": [
    "%matplotlib inline\n",
    "import numpy as np\n",
    "from scipy.spatial.distance import cdist\n",
    "import matplotlib.pyplot as plt\n",
    "\n",
    "class SelfOrganizingMap:\n",
    "    \"\"\"Implements a self-organizing map.\"\"\"\n",
    "    \n",
    "    def __init__(self, data, map_size=(20,20), method='distance'):\n",
    "        \"\"\"\n",
    "        Creates a grid self.nodes of map_size[0] x map_size[1] \n",
    "        many nodes with random weights for each dimension in the \n",
    "        data. This means self.nodes.shape will be \n",
    "        (map_size[0], map_size[1], data.shape[-1]).\n",
    "        \n",
    "        Stores the data in self.data.\n",
    "        \n",
    "        Args:\n",
    "            data        The data to fit with this map.\n",
    "            map_size    The size of the map. Defaults to 20x20.\n",
    "            method      The activation method. Supports 'distance' and 'activation'.\n",
    "        \"\"\"\n",
    "        self.nodes = np.random.rand(map_size[0], map_size[1], data.shape[-1])\n",
    "        self.data = data\n",
    "        self.method = method\n",
    "    \n",
    "    def theta(self, u, v, step, max_steps):\n",
    "        \"\"\"\n",
    "        The neighborhood function. \n",
    "        \n",
    "        Args:\n",
    "            u           The best matching node's grid coordinates.\n",
    "            v           Grid coordinates of the (possible) neighboring node.\n",
    "            step        The current step.\n",
    "            max_steps   The maximum number of steps.\n",
    "        \n",
    "        Returns:\n",
    "            A weight of how strong the neighborhood relation between\n",
    "            u and v is at step of max_steps.\n",
    "        \"\"\"\n",
    "        # YOUR CODE HERE\n",
    "\n",
    "    def alpha(self, step, max_steps):\n",
    "        \"\"\"\n",
    "        The learning rate. Decays with step.\n",
    "        \n",
    "        Args:\n",
    "            step        The current step.\n",
    "            max_steps   The maximum number of steps.\n",
    "        \"\"\"\n",
    "        # YOUR CODE HERE\n",
    "\n",
    "    def organize(self, max_steps):\n",
    "        \"\"\"\n",
    "        For steps this method organizes the map with its data.\n",
    "        \n",
    "        In each step it picks a random sample from the data and\n",
    "        calculates the best matching node.\n",
    "        The best matching node's indices are calculated with \n",
    "        get_best_matching_index.\n",
    "        Using the indices of that node, all nodes are\n",
    "        updated by applying alpha and theta.\n",
    "        \n",
    "        Args:\n",
    "            max_steps   The number of steps.\n",
    "        \"\"\"\n",
    "        # YOUR CODE HERE\n",
    "    \n",
    "    def get_best_matching_index(self, X):\n",
    "        \"\"\"\n",
    "        Calculates the best matching node for data sample X.\n",
    "        Depending on the method used (see __init__), a different\n",
    "        approach is used.\n",
    "        \n",
    "        method 'distance': \n",
    "            Finds the best matching node by minimal distance:\n",
    "                argmin(||n-x||)\n",
    "        other method ('activation'): \n",
    "            Finds the best matching node by maximal excitation:\n",
    "                argmax(nx)\n",
    "        \n",
    "        Args:\n",
    "            X       The data point.\n",
    "        Returns:\n",
    "            The grid coordinates of the best matching node.\n",
    "        \"\"\"\n",
    "        # YOUR CODE HERE\n",
    "\n",
    "    def __getitem__(self, key):\n",
    "        \"\"\"\n",
    "        Allows to access the nodes via the self-organizing map directly.\n",
    "        \n",
    "        som[4,2] \n",
    "        is thus same as \n",
    "        som.nodes[4,2]\n",
    "        \n",
    "        Args:\n",
    "            key The key (can be a slice or similar).\n",
    "        Returns:\n",
    "            self.nodes[key]\n",
    "        \"\"\"\n",
    "        return self.nodes[key]\n",
    "\n",
    "    def plot(self):\n",
    "        \"\"\"Plots the map's first three features as an image.\"\"\"\n",
    "        plt.imshow(self.nodes[:,:,0:3], interpolation='none')"
   ]
  },
  {
   "cell_type": "markdown",
   "metadata": {
    "deletable": false,
    "editable": false,
    "nbgrader": {
     "checksum": "7b160199d62ce093d60d4519f9c1707a",
     "grade": false,
     "grade_id": "ex2b",
     "locked": true,
     "schema_version": 1,
     "solution": false
    }
   },
   "source": [
    "### b) Apply the Self-Organizing Map\n",
    "\n",
    "Now apply your self-organizing map on some data.\n",
    "\n",
    "We already generate simple color data for you - you can change it if you like.\n",
    "\n",
    "1. Load `world_data.csv`. We recommend using a `csv.reader` for this, as the first column contains strings: the labels you need to use to accomplish the mapping.\n",
    "\n",
    "1. The data has some invalid values (np.nan). Use the `Imputer` (check the imports) to fill them.\n",
    "\n",
    "1. Additionally the data has to be scaled. Use `scale` (check the imports) for this.\n",
    "\n",
    "1. Create two instances of the `SelfOrganizingMap` and organize them, one for the colors and one for the countries. Take care that both have the same sizes."
   ]
  },
  {
   "cell_type": "code",
   "execution_count": null,
   "metadata": {
    "deletable": false,
    "nbgrader": {
     "checksum": "9305fe338c96b51b2ab89628be75d280",
     "grade": true,
     "grade_id": "ex2b_sol",
     "locked": false,
     "points": 2,
     "schema_version": 1,
     "solution": true
    }
   },
   "outputs": [],
   "source": [
    "%matplotlib inline\n",
    "import csv\n",
    "import itertools\n",
    "import numpy as np\n",
    "import matplotlib.pyplot as plt\n",
    "from sklearn.preprocessing import Imputer as Imputer, scale as scale\n",
    "\n",
    "# Generate color data.\n",
    "colors = np.array(list(itertools.product([0, 1], repeat=3)))\n",
    "\n",
    "# TODO: Read world data.\n",
    "# YOUR CODE HERE\n",
    "\n",
    "# TODO: Create color map and organize it.\n",
    "# some_colors = ...\n",
    "# YOUR CODE HERE\n",
    "\n",
    "# TODO: Create country map and organize it.\n",
    "# som_countries = ...\n",
    "# YOUR CODE HERE\n",
    "\n",
    "# Take a look at the results.\n",
    "plt.figure('SOM')\n",
    "plt.subplot(221).set_title('Colors by Distance')\n",
    "som_colors.plot()\n",
    "plt.subplot(222).set_title('Countries by Distance')\n",
    "som_countries.plot()\n",
    "plt.subplot(223).set_title('Colors by Activation')\n",
    "som_colors_act.plot()\n",
    "plt.subplot(224).set_title('Countries by Activation')\n",
    "som_countries_act.plot()"
   ]
  },
  {
   "cell_type": "markdown",
   "metadata": {
    "deletable": false,
    "editable": false,
    "nbgrader": {
     "checksum": "585c0b8eda7069694b75b8e1ef7461b1",
     "grade": false,
     "grade_id": "ex2c",
     "locked": true,
     "schema_version": 1,
     "solution": false
    }
   },
   "source": [
    "Select the best matching indices for each country from the country map. Use those indices to select the corresponding color from the color map. Create the mapping from ISO codes to colors and use the `create_colored_map` function to produce the colored SVG map."
   ]
  },
  {
   "cell_type": "code",
   "execution_count": null,
   "metadata": {
    "deletable": false,
    "nbgrader": {
     "checksum": "5b09ac2f288a07d8561cadd1ac6c5009",
     "grade": true,
     "grade_id": "ex2c_sol",
     "locked": false,
     "points": 2,
     "schema_version": 1,
     "solution": true
    }
   },
   "outputs": [],
   "source": [
    "# TODO: Match countries to colors.\n",
    "# YOUR CODE HERE\n",
    "\n",
    "# TODO: Create colored map.\n",
    "# YOUR CODE HERE"
   ]
  },
  {
   "cell_type": "markdown",
   "metadata": {
    "deletable": false,
    "editable": false,
    "nbgrader": {
     "checksum": "31cdd9570a0cb7526005789034a00c9b",
     "grade": false,
     "grade_id": "ex3_h00",
     "locked": true,
     "schema_version": 1,
     "solution": false
    }
   },
   "source": [
    "## Assignment 3: Probability Theory [4 Points]\n",
    "\n",
    "Consider three bags filled with three types of candy. The table below indicates for each bag how many candies of each type are in each bag.\n",
    "\n",
    "| contains        || green candy | blue candy | red candy || total |\n",
    "|-----------------||-------------|------------|-----------||-------|\n",
    "|                 ||             |            |           ||       |\n",
    "| **cyan bag**    ||          10 |          4 |         2 ||    16 |\n",
    "| **magenta bag** ||           5 |          7 |         2 ||    14 |\n",
    "| **yellow bag**  ||           2 |          2 |         8 ||    12 |\n",
    "|                 ||             |            |           ||       |\n",
    "| **total**       ||          17 |         13 |        12 ||    42 |\n",
    "\n",
    "In the following we denote the bags as $B=\\{c,m,y\\}$ and the candies as $C=\\{r, g, b\\}$. So the probability for drawing a blue candy from the cyan bag would be: $P(C=b|B=c)=\\frac{4}{16}=0.25$."
   ]
  },
  {
   "cell_type": "markdown",
   "metadata": {
    "deletable": false,
    "editable": false,
    "nbgrader": {
     "checksum": "684e1af95867313bd4f919ae5fee62f7",
     "grade": false,
     "grade_id": "ex3a",
     "locked": true,
     "schema_version": 1,
     "solution": false
    }
   },
   "source": [
    "### a)\n",
    "\n",
    "Give a verbal description of the following events and compute their probabilities:\n",
    "$$\n",
    "\\begin{align*}\n",
    "P(C=b|B=m) &= ? \\\\\n",
    "P(C=g|B=y) &= ? \\\\\n",
    "\\end{align*}\n",
    "$$"
   ]
  },
  {
   "cell_type": "markdown",
   "metadata": {
    "deletable": false,
    "nbgrader": {
     "checksum": "1c8a7627098de1d520f861437aea59c3",
     "grade": true,
     "grade_id": "ex3a_sol",
     "locked": false,
     "points": 1,
     "schema_version": 1,
     "solution": true
    }
   },
   "source": [
    "YOUR ANSWER HERE"
   ]
  },
  {
   "cell_type": "markdown",
   "metadata": {
    "deletable": false,
    "editable": false,
    "nbgrader": {
     "checksum": "f7aa50d2c4d87ba7b456b3bdfe271162",
     "grade": false,
     "grade_id": "ex3b",
     "locked": true,
     "schema_version": 1,
     "solution": false
    }
   },
   "source": [
    "### b)\n",
    "\n",
    "Now assume that you randomly choose bag and then randomly draw a candy from that bag. What is the probability that the candy is red?\n",
    "\n",
    "$$P(C=r) = ?$$"
   ]
  },
  {
   "cell_type": "markdown",
   "metadata": {
    "deletable": false,
    "nbgrader": {
     "checksum": "52da7b639ed66041d3252c05fea4c0c6",
     "grade": true,
     "grade_id": "ex3b_sol",
     "locked": false,
     "points": 1,
     "schema_version": 1,
     "solution": true
    }
   },
   "source": [
    "YOUR ANSWER HERE"
   ]
  },
  {
   "cell_type": "markdown",
   "metadata": {
    "deletable": false,
    "editable": false,
    "nbgrader": {
     "checksum": "9f862ff4a8402d584f41ca2607fa2ed5",
     "grade": false,
     "grade_id": "ex3c",
     "locked": true,
     "schema_version": 1,
     "solution": false
    }
   },
   "source": [
    "### c)\n",
    "\n",
    "Someone has choosen a red candy from one of the bags, but does not tell you from which bag it originated.\n",
    "Compute the probability that it was from the yellow bag:\n",
    "    \n",
    "$$P(B=y|C=r) = ?$$"
   ]
  },
  {
   "cell_type": "markdown",
   "metadata": {
    "deletable": false,
    "nbgrader": {
     "checksum": "c3e3ee30a2aab7fe8e88f4dd9fafe3f1",
     "grade": true,
     "grade_id": "ex3c_sol",
     "locked": false,
     "points": 1,
     "schema_version": 1,
     "solution": true
    }
   },
   "source": [
    "YOUR ANSWER HERE"
   ]
  },
  {
   "cell_type": "markdown",
   "metadata": {
    "deletable": false,
    "editable": false,
    "nbgrader": {
     "checksum": "ad9872a92f559099447302a576a6cdd1",
     "grade": false,
     "grade_id": "ex3d",
     "locked": true,
     "schema_version": 1,
     "solution": false
    }
   },
   "source": [
    "### d) \n",
    "\n",
    "Let's assume we draw with the following probabilities from each bag: $P(B=c)=0.2$, $P(B=m)=0.7$, $P(B=y)=0.1$.\n",
    "What are the probabilities to draw a green, blue or red candy?"
   ]
  },
  {
   "cell_type": "markdown",
   "metadata": {
    "deletable": false,
    "nbgrader": {
     "checksum": "b3f594e9c3e580e545a616e28d9aa706",
     "grade": true,
     "grade_id": "ex3d_sol",
     "locked": false,
     "points": 1,
     "schema_version": 1,
     "solution": true
    }
   },
   "source": [
    "YOUR ANSWER HERE"
   ]
  },
  {
   "cell_type": "markdown",
   "metadata": {
    "deletable": false,
    "editable": false,
    "nbgrader": {
     "checksum": "e0b761bb4b6853cd7583227b21b12063",
     "grade": false,
     "grade_id": "ex4_h00",
     "locked": true,
     "schema_version": 1,
     "solution": false
    }
   },
   "source": [
    "## Assignment 4: Bayes classifier [6 Points]"
   ]
  },
  {
   "cell_type": "markdown",
   "metadata": {
    "deletable": false,
    "editable": false,
    "nbgrader": {
     "checksum": "4f52be1d5ac565aaa2c0a57846474994",
     "grade": false,
     "grade_id": "ex4_h01",
     "locked": true,
     "schema_version": 1,
     "solution": false
    }
   },
   "source": [
    "Consider the following data set. There are four features, running nose ($N$), coughing ($C$), reddened skin ($R$), and fever ($F$), each of which can take the values true ($+$) or false ($-$).\n",
    "\n",
    "| Diagnosis ID  | $N$ | $C$ | $R$ | $F$ | Classification     |\n",
    "|---------------|-----|-----|-----|-----|--------------------|\n",
    "|     $d_1$     | $+$ | $+$ | $+$ | $-$ | positive (ill)     |\n",
    "|     $d_2$     | $+$ | $+$ | $-$ | $-$ | positive (ill)     |\n",
    "|     $d_3$     | $-$ | $-$ | $+$ | $+$ | positive (ill)     |\n",
    "|     $d_4$     | $+$ | $-$ | $-$ | $-$ | negative (healthy) |\n",
    "|     $d_5$     | $-$ | $-$ | $-$ | $-$ | negative (healthy) |\n",
    "|     $d_6$     | $-$ | $+$ | $+$ | $-$ | negative (healthy) |\n",
    "\n",
    "Solve the following problems either by hand or programmatically. Assume all features are independent."
   ]
  },
  {
   "cell_type": "markdown",
   "metadata": {
    "deletable": false,
    "editable": false,
    "nbgrader": {
     "checksum": "f9b2dcf3aeca6725d4c236a445d45178",
     "grade": false,
     "grade_id": "ex4_a00",
     "locked": true,
     "schema_version": 1,
     "solution": false
    }
   },
   "source": [
    "### a)\n",
    "\n",
    "Determine all probabilities required to apply a Bayes classifier for predicting whether a new person is ill or not."
   ]
  },
  {
   "cell_type": "markdown",
   "metadata": {
    "deletable": false,
    "nbgrader": {
     "checksum": "a07f2cefbbab53165556bf6965f02764",
     "grade": true,
     "grade_id": "ex4_a_sol",
     "locked": false,
     "points": 3,
     "schema_version": 1,
     "solution": true
    }
   },
   "source": [
    "YOUR ANSWER HERE"
   ]
  },
  {
   "cell_type": "markdown",
   "metadata": {
    "deletable": false,
    "editable": false,
    "nbgrader": {
     "checksum": "f487d7e0c9318fa0dca5ae71b0efa78b",
     "grade": false,
     "grade_id": "ex4_b00",
     "locked": true,
     "schema_version": 1,
     "solution": false
    }
   },
   "source": [
    "### b)\n",
    "Person $p_1$ is coughing and has fever. Person $p_2$ has a running nose and reddened skin. Person $p_3$ is coughing, sufferes from reddened skin and has fever. Determine the probability of being ill for all persons $p1, p2, p3$."
   ]
  },
  {
   "cell_type": "markdown",
   "metadata": {
    "deletable": false,
    "nbgrader": {
     "checksum": "3216eaec57ef317f872741a820b3b422",
     "grade": true,
     "grade_id": "ex4_b_sol",
     "locked": false,
     "points": 3,
     "schema_version": 1,
     "solution": true
    }
   },
   "source": [
    "YOUR ANSWER HERE"
   ]
  }
 ],
 "metadata": {
  "kernelspec": {
   "display_name": "Python 3",
   "language": "python",
   "name": "python3"
  },
  "language_info": {
   "codemirror_mode": {
    "name": "ipython",
    "version": 3
   },
   "file_extension": ".py",
   "mimetype": "text/x-python",
   "name": "python",
   "nbconvert_exporter": "python",
   "pygments_lexer": "ipython3",
   "version": "3.6.5"
  },
  "toc": {
   "base_numbering": 1,
   "nav_menu": {},
   "number_sections": true,
   "sideBar": true,
   "skip_h1_title": false,
   "title_cell": "Table of Contents",
   "title_sidebar": "Contents",
   "toc_cell": false,
   "toc_position": {},
   "toc_section_display": true,
   "toc_window_display": false
  },
  "varInspector": {
   "cols": {
    "lenName": 16,
    "lenType": 16,
    "lenVar": 40
   },
   "kernels_config": {
    "python": {
     "delete_cmd_postfix": "",
     "delete_cmd_prefix": "del ",
     "library": "var_list.py",
     "varRefreshCmd": "print(var_dic_list())"
    },
    "r": {
     "delete_cmd_postfix": ") ",
     "delete_cmd_prefix": "rm(",
     "library": "var_list.r",
     "varRefreshCmd": "cat(var_dic_list()) "
    }
   },
   "types_to_exclude": [
    "module",
    "function",
    "builtin_function_or_method",
    "instance",
    "_Feature"
   ],
   "window_display": false
  },
  "widgets": {
   "state": {},
   "version": "1.1.2"
  }
 },
 "nbformat": 4,
 "nbformat_minor": 1
}
